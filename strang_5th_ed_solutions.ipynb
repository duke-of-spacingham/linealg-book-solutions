{
 "cells": [
  {
   "cell_type": "code",
   "execution_count": 7,
   "id": "a54a6a4d",
   "metadata": {
    "scrolled": true
   },
   "outputs": [
    {
     "data": {
      "text/plain": [
       "true"
      ]
     },
     "execution_count": 7,
     "metadata": {},
     "output_type": "execute_result"
    }
   ],
   "source": [
    "using GLMakie, Markdown\n",
    "GLMakie.activate!()\n",
    "Makie.inline!(true)"
   ]
  },
  {
   "cell_type": "code",
   "execution_count": 8,
   "id": "8a7cb92d-916e-4a74-b57a-5ce0204befe5",
   "metadata": {},
   "outputs": [
    {
     "data": {
      "text/latex": [
       "\\section{Test for}\n",
       "\\section{Strang Introduction to Linear Algebra (5th edition) solutions}\n"
      ],
      "text/markdown": [
       "# Test for\n",
       "\n",
       "# Strang Introduction to Linear Algebra (5th edition) solutions\n"
      ],
      "text/plain": [
       "\u001b[1m  Test for\u001b[22m\n",
       "\u001b[1m  ≡≡≡≡≡≡≡≡≡≡\u001b[22m\n",
       "\n",
       "\u001b[1m  Strang Introduction to Linear Algebra (5th edition) solutions\u001b[22m\n",
       "\u001b[1m  ≡≡≡≡≡≡≡≡≡≡≡≡≡≡≡≡≡≡≡≡≡≡≡≡≡≡≡≡≡≡≡≡≡≡≡≡≡≡≡≡≡≡≡≡≡≡≡≡≡≡≡≡≡≡≡≡≡≡≡≡≡≡≡\u001b[22m"
      ]
     },
     "execution_count": 8,
     "metadata": {},
     "output_type": "execute_result"
    }
   ],
   "source": [
    "md\"\"\"\n",
    "# Test for \n",
    "# Strang Introduction to Linear Algebra (5th edition) solutions\n",
    "\"\"\""
   ]
  },
  {
   "cell_type": "code",
   "execution_count": 9,
   "id": "5af7e757-2e52-4d9d-a3a7-a0d5617ea490",
   "metadata": {},
   "outputs": [
    {
     "data": {
      "text/latex": [
       "\\subsection{Problem Set 1.1, Page 21,}\n",
       "\\subsubsection{question 29}\n"
      ],
      "text/markdown": [
       "## Problem Set 1.1, Page 21,\n",
       "\n",
       "### question 29\n"
      ],
      "text/plain": [
       "\u001b[1m  Problem Set 1.1, Page 21,\u001b[22m\n",
       "\u001b[1m  ===========================\u001b[22m\n",
       "\n",
       "\u001b[1m  question 29\u001b[22m\n",
       "\u001b[1m  –––––––––––––\u001b[22m"
      ]
     },
     "execution_count": 9,
     "metadata": {},
     "output_type": "execute_result"
    }
   ],
   "source": [
    "md\"\"\"\n",
    "## Problem Set 1.1, Page 21, \n",
    "### question 29\n",
    "\"\"\""
   ]
  },
  {
   "cell_type": "code",
   "execution_count": 10,
   "id": "61a1e859-aa1c-460e-b3d8-8b374d7d1b4e",
   "metadata": {},
   "outputs": [],
   "source": [
    "#f = Figure()\n",
    "#ax = Axis(f[1,1])\n",
    "#f"
   ]
  },
  {
   "cell_type": "code",
   "execution_count": 11,
   "id": "9c5d69f4-74da-4c36-8760-a2ebb7a55777",
   "metadata": {},
   "outputs": [
    {
     "name": "stdout",
     "output_type": "stream",
     "text": [
      "[0 1 3; 0 3 10]\n",
      "[1 2 1; 3 7 5]\n"
     ]
    },
    {
     "data": {
      "image/png": "[encoded data removed]"
     },
     "execution_count": 11,
     "metadata": {},
     "output_type": "execute_result"
    }
   ],
   "source": [
    "u = [1, 3]\n",
    "v = [2, 7]\n",
    "w = [1, 5]\n",
    "zerovec = [0, 0]\n",
    "\n",
    "function drawvecs(vecinits, vecs, vecnames, vecolors)\n",
    "    #f = Figure()\n",
    "    #ax = Axis(f[1,1])\n",
    "    \n",
    "    initsmat = hcat(vecinits...)\n",
    "    vecsmat = hcat(vecs...)\n",
    "    textlocs = hcat((vecs/2+vecinits)...)\n",
    "    println(initsmat)\n",
    "    println(vecsmat)\n",
    "    \n",
    "    arrows!(ax, initsmat[1, :], initsmat[2, :], vecsmat[1, :], vecsmat[2, :], color= vecolors)\n",
    "    \n",
    "    text!(ax, textlocs[1, :], textlocs[2, :], text = vecnames, align=(:right, :bottom), color = vecolors)\n",
    "\n",
    "    #f\n",
    "    return 0\n",
    "end\n",
    "\n",
    "f = Figure()\n",
    "ax = Axis(f[1,1])\n",
    "\n",
    "drawvecs([zerovec, u, v+u], [u, v, w], [\"u\", \"v\", \"w\"], [:red, :blue, :green])\n",
    "\n",
    "f"
   ]
  },
  {
   "cell_type": "code",
   "execution_count": 12,
   "id": "03b8d4ac",
   "metadata": {},
   "outputs": [
    {
     "data": {
      "text/latex": [
       "$a \\begin{bmatrix}        1\\\\[0.3em]        3 \\end{bmatrix} +  b \\begin{bmatrix}        2\\\\[0.3em]        7 \\end{bmatrix} +  c \\begin{bmatrix}        1\\\\[0.3em]        5 \\end{bmatrix} =  \\begin{bmatrix}        0\\\\[0.3em]        1 \\end{bmatrix}$\n",
       "\n"
      ],
      "text/markdown": [
       "$a \\begin{bmatrix}        1\\\\[0.3em]        3 \\end{bmatrix} +  b \\begin{bmatrix}        2\\\\[0.3em]        7 \\end{bmatrix} +  c \\begin{bmatrix}        1\\\\[0.3em]        5 \\end{bmatrix} =  \\begin{bmatrix}        0\\\\[0.3em]        1 \\end{bmatrix}$\n"
      ],
      "text/plain": [
       "  \u001b[35ma \\begin{bmatrix} 1\\\\[0.3em] 3 \\end{bmatrix} + b \\begin{bmatrix} 2\\\\[0.3em]\n",
       "  7 \\end{bmatrix} + c \\begin{bmatrix} 1\\\\[0.3em] 5 \\end{bmatrix} =\n",
       "  \\begin{bmatrix} 0\\\\[0.3em] 1 \\end{bmatrix}\u001b[39m"
      ]
     },
     "execution_count": 12,
     "metadata": {},
     "output_type": "execute_result"
    }
   ],
   "source": [
    "md\"\"\"\n",
    "``\n",
    "a\n",
    "\\begin{bmatrix}\n",
    "       1\\\\[0.3em]\n",
    "       3\n",
    "\\end{bmatrix} + \n",
    "b\n",
    "\\begin{bmatrix}\n",
    "       2\\\\[0.3em]\n",
    "       7\n",
    "\\end{bmatrix} + \n",
    "c\n",
    "\\begin{bmatrix}\n",
    "       1\\\\[0.3em]\n",
    "       5\n",
    "\\end{bmatrix} = \n",
    "\\begin{bmatrix}\n",
    "       0\\\\[0.3em]\n",
    "       1\n",
    "\\end{bmatrix}\n",
    "``\n",
    "\"\"\""
   ]
  },
  {
   "cell_type": "code",
   "execution_count": null,
   "id": "b1885516",
   "metadata": {},
   "outputs": [],
   "source": []
  }
 ],
 "metadata": {
  "kernelspec": {
   "display_name": "Julia 1.9.0",
   "language": "julia",
   "name": "julia-1.9"
  },
  "language_info": {
   "file_extension": ".jl",
   "mimetype": "application/julia",
   "name": "julia",
   "version": "1.9.0"
  }
 },
 "nbformat": 4,
 "nbformat_minor": 5
}
